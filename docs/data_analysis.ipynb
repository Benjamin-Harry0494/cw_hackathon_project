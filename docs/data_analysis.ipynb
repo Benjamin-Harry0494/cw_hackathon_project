{
 "cells": [
  {
   "cell_type": "code",
   "execution_count": 2,
   "metadata": {},
   "outputs": [],
   "source": [
    "from urllib.request import urlretrieve\n",
    "import pandas as pd"
   ]
  },
  {
   "cell_type": "code",
   "execution_count": 3,
   "metadata": {},
   "outputs": [
    {
     "data": {
      "text/plain": [
       "('nhsbsa_optom_publication.ods', <http.client.HTTPMessage at 0x25d3468f8d0>)"
      ]
     },
     "execution_count": 3,
     "metadata": {},
     "output_type": "execute_result"
    }
   ],
   "source": [
    "url = \"https://www.nhsbsa.nhs.uk/sites/default/files/2024-10/NHSBSA-GOS-Statistics-2020-2023-Revision-1%20v2.ods\"\n",
    "dest_filepath = \"nhsbsa_optom_publication.ods\"\n",
    "\n",
    "urlretrieve(url, dest_filepath)"
   ]
  },
  {
   "cell_type": "code",
   "execution_count": 19,
   "metadata": {},
   "outputs": [],
   "source": [
    "#Table 1 - Total NHS Sight Tests submitted for payment before adjustments, England only, from April 2020 to March 2023\n",
    "#Table 3 - Total partially funded sight tests, England only, from  April 2020 to March 2023\n",
    "total_tests = pd.read_excel(dest_filepath, engine = \"odf\", sheet_name = \"Table_1\", skiprows = 5)\n",
    "total_partial_funded = pd.read_excel(dest_filepath, engine = \"odf\", sheet_name = \"Table_3\", skiprows = 5)"
   ]
  },
  {
   "cell_type": "code",
   "execution_count": 23,
   "metadata": {},
   "outputs": [
    {
     "data": {
      "text/html": [
       "<div>\n",
       "<style scoped>\n",
       "    .dataframe tbody tr th:only-of-type {\n",
       "        vertical-align: middle;\n",
       "    }\n",
       "\n",
       "    .dataframe tbody tr th {\n",
       "        vertical-align: top;\n",
       "    }\n",
       "\n",
       "    .dataframe thead th {\n",
       "        text-align: right;\n",
       "    }\n",
       "</style>\n",
       "<table border=\"1\" class=\"dataframe\">\n",
       "  <thead>\n",
       "    <tr style=\"text-align: right;\">\n",
       "      <th></th>\n",
       "      <th>Apr to Sep</th>\n",
       "      <th>Oct to Mar</th>\n",
       "      <th>Apr to Mar</th>\n",
       "      <th>Yr-on-Yr Change</th>\n",
       "      <th>Yr-on-Yr Change %</th>\n",
       "      <th>Unique Contractors</th>\n",
       "    </tr>\n",
       "    <tr>\n",
       "      <th>Financial Year</th>\n",
       "      <th></th>\n",
       "      <th></th>\n",
       "      <th></th>\n",
       "      <th></th>\n",
       "      <th></th>\n",
       "      <th></th>\n",
       "    </tr>\n",
       "  </thead>\n",
       "  <tbody>\n",
       "    <tr>\n",
       "      <th>2020/2021</th>\n",
       "      <td>2721589</td>\n",
       "      <td>6478240</td>\n",
       "      <td>9199829</td>\n",
       "      <td>z</td>\n",
       "      <td>z</td>\n",
       "      <td>4659</td>\n",
       "    </tr>\n",
       "    <tr>\n",
       "      <th>2021/2022</th>\n",
       "      <td>6379697</td>\n",
       "      <td>6322146</td>\n",
       "      <td>12701843</td>\n",
       "      <td>3502014</td>\n",
       "      <td>0.380661</td>\n",
       "      <td>5591</td>\n",
       "    </tr>\n",
       "    <tr>\n",
       "      <th>2022/2023</th>\n",
       "      <td>6320107</td>\n",
       "      <td>6470278</td>\n",
       "      <td>12790385</td>\n",
       "      <td>88542</td>\n",
       "      <td>0.006923</td>\n",
       "      <td>5569</td>\n",
       "    </tr>\n",
       "  </tbody>\n",
       "</table>\n",
       "</div>"
      ],
      "text/plain": [
       "                Apr to Sep  Oct to Mar  Apr to Mar Yr-on-Yr Change  \\\n",
       "Financial Year                                                       \n",
       "2020/2021          2721589     6478240     9199829               z   \n",
       "2021/2022          6379697     6322146    12701843         3502014   \n",
       "2022/2023          6320107     6470278    12790385           88542   \n",
       "\n",
       "               Yr-on-Yr Change %  Unique Contractors  \n",
       "Financial Year                                        \n",
       "2020/2021                      z                4659  \n",
       "2021/2022               0.380661                5591  \n",
       "2022/2023               0.006923                5569  "
      ]
     },
     "execution_count": 23,
     "metadata": {},
     "output_type": "execute_result"
    }
   ],
   "source": [
    "total_tests = total_tests.set_index('Financial Year')\n",
    "\n",
    "total_partial_funded = total_partial_funded.set_index('Financial Year')"
   ]
  },
  {
   "cell_type": "code",
   "execution_count": 31,
   "metadata": {},
   "outputs": [
    {
     "data": {
      "text/plain": [
       "np.int64(12790385)"
      ]
     },
     "execution_count": 31,
     "metadata": {},
     "output_type": "execute_result"
    }
   ],
   "source": [
    "n_funded_tests = total_tests.at['2022/2023', 'Apr to Mar']\n",
    "n_funded_tests"
   ]
  },
  {
   "cell_type": "code",
   "execution_count": 28,
   "metadata": {},
   "outputs": [
    {
     "data": {
      "text/plain": [
       "np.int64(123)"
      ]
     },
     "execution_count": 28,
     "metadata": {},
     "output_type": "execute_result"
    }
   ],
   "source": [
    "n_partial_funded_tests = total_partial_funded.at['2022/2023', 'Part-funded sight tests']\n",
    "n_partial_funded_tests"
   ]
  },
  {
   "cell_type": "code",
   "execution_count": 32,
   "metadata": {},
   "outputs": [
    {
     "data": {
      "text/plain": [
       "np.float64(300957759.05)"
      ]
     },
     "execution_count": 32,
     "metadata": {},
     "output_type": "execute_result"
    }
   ],
   "source": [
    "fully_funded_cost = 23.53\n",
    "\n",
    "cost2223 = n_funded_tests * fully_funded_cost\n",
    "\n",
    "cost2223"
   ]
  }
 ],
 "metadata": {
  "kernelspec": {
   "display_name": "Python 3",
   "language": "python",
   "name": "python3"
  },
  "language_info": {
   "codemirror_mode": {
    "name": "ipython",
    "version": 3
   },
   "file_extension": ".py",
   "mimetype": "text/x-python",
   "name": "python",
   "nbconvert_exporter": "python",
   "pygments_lexer": "ipython3",
   "version": "3.11.9"
  }
 },
 "nbformat": 4,
 "nbformat_minor": 2
}
